{
  "cells": [
    {
      "cell_type": "markdown",
      "metadata": {
        "id": "view-in-github",
        "colab_type": "text"
      },
      "source": [
        "<a href=\"https://colab.research.google.com/github/tendiek/classifierpredict/blob/master/AC_Predict_Starter_Notebook.ipynb\" target=\"_parent\"><img src=\"https://colab.research.google.com/assets/colab-badge.svg\" alt=\"Open In Colab\"/></a>"
      ]
    },
    {
      "cell_type": "markdown",
      "metadata": {
        "id": "oVwv4fX7qU9R"
      },
      "source": [
        "# Advanced Classification Predict\n",
        "\n",
        "© Explore Data Science Academy"
      ]
    },
    {
      "cell_type": "markdown",
      "metadata": {
        "id": "XHAygphKqU9V"
      },
      "source": [
        "## Honour Code\n",
        "\n",
        "I **YOUR NAME**, confirm - by submitting this document - that the solutions in this notebook are a result of my own work and that I abide by the EDSA honour code (https://drive.google.com/file/d/1QDCjGZJ8-FmJE3bZdIQNwnJyQKPhHZBn/view?usp=sharing).\n",
        "\n",
        "Non-compliance with the honour code constitutes a material breach of contract."
      ]
    },
    {
      "cell_type": "markdown",
      "metadata": {
        "id": "ivCbHr8iqU9W"
      },
      "source": [
        "### Import Libraries and Read In the Data\n",
        "\n",
        "Do not modify or remove any of the code in these cells."
      ]
    },
    {
      "cell_type": "code",
      "execution_count": 126,
      "metadata": {
        "colab": {
          "base_uri": "https://localhost:8080/"
        },
        "id": "Sp9ItBq5qU9X",
        "outputId": "4afb3842-0097-44b4-e701-ee7200e7126d"
      },
      "outputs": [
        {
          "output_type": "stream",
          "name": "stdout",
          "text": [
            "[nltk_data] Downloading package wordnet to /root/nltk_data...\n",
            "[nltk_data]   Package wordnet is already up-to-date!\n",
            "[nltk_data] Downloading package stopwords to /root/nltk_data...\n",
            "[nltk_data]   Package stopwords is already up-to-date!\n",
            "[nltk_data] Downloading package punkt to /root/nltk_data...\n",
            "[nltk_data]   Package punkt is already up-to-date!\n"
          ]
        },
        {
          "output_type": "execute_result",
          "data": {
            "text/plain": [
              "True"
            ]
          },
          "metadata": {},
          "execution_count": 126
        }
      ],
      "source": [
        "from IPython.display import Image\n",
        "from IPython.display import IFrame\n",
        "from IPython import display\n",
        "import pandas as pd\n",
        "import numpy as np\n",
        "\n",
        "import nltk\n",
        "import sklearn\n",
        "import imblearn\n",
        "import csv\n",
        "%matplotlib inline\n",
        "\n",
        "from nltk import TreebankWordTokenizer, SnowballStemmer\n",
        "from nltk.tokenize import TweetTokenizer\n",
        "from nltk.tokenize import  word_tokenize\n",
        "from nltk.stem import WordNetLemmatizer\n",
        "from nltk.corpus import stopwords\n",
        "\n",
        "from imblearn.metrics import classification_report_imbalanced\n",
        "\n",
        "from sklearn.preprocessing import LabelBinarizer\n",
        "from sklearn.linear_model import LogisticRegression\n",
        "from sklearn.ensemble import RandomForestClassifier, AdaBoostClassifier\n",
        "from sklearn.naive_bayes import MultinomialNB\n",
        "from sklearn.linear_model import SGDClassifier\n",
        "from sklearn.tree import DecisionTreeClassifier\n",
        "from sklearn.neighbors  import KNeighborsClassifier\n",
        "from sklearn.svm import SVC\n",
        "from sklearn.model_selection import train_test_split\n",
        "\n",
        "from sklearn.feature_extraction.text import TfidfVectorizer\n",
        "from sklearn.feature_extraction.text import CountVectorizer\n",
        "from sklearn.feature_selection import VarianceThreshold\n",
        "\n",
        "from sklearn.metrics import accuracy_score\n",
        "from sklearn.metrics import roc_auc_score\n",
        "from sklearn.metrics import recall_score\n",
        "from sklearn.metrics import precision_score\n",
        "from sklearn.metrics import f1_score\n",
        "from sklearn.metrics import confusion_matrix\n",
        "\n",
        "import string\n",
        "import urllib\n",
        "import math\n",
        "import re\n",
        "\n",
        "nltk.download('wordnet')\n",
        "nltk.download('stopwords')\n",
        "nltk.download('punkt')"
      ]
    },
    {
      "cell_type": "code",
      "execution_count": 4,
      "metadata": {
        "colab": {
          "base_uri": "https://localhost:8080/",
          "height": 206
        },
        "id": "31yZnK8yqU9Z",
        "outputId": "bae1f940-4ad6-41d4-dcd3-55a2ebc3462b"
      },
      "outputs": [
        {
          "output_type": "execute_result",
          "data": {
            "text/plain": [
              "   sentiment                                            message  tweetid\n",
              "0          1  PolySciMajor EPA chief doesn't think carbon di...   625221\n",
              "1          1  It's not like we lack evidence of anthropogeni...   126103\n",
              "2          2  RT @RawStory: Researchers say we have three ye...   698562\n",
              "3          1  #TodayinMaker# WIRED : 2016 was a pivotal year...   573736\n",
              "4          1  RT @SoyNovioDeTodas: It's 2016, and a racist, ...   466954"
            ],
            "text/html": [
              "\n",
              "  <div id=\"df-e66dcaaa-e6c6-4df7-89bc-81bcd9ad1053\">\n",
              "    <div class=\"colab-df-container\">\n",
              "      <div>\n",
              "<style scoped>\n",
              "    .dataframe tbody tr th:only-of-type {\n",
              "        vertical-align: middle;\n",
              "    }\n",
              "\n",
              "    .dataframe tbody tr th {\n",
              "        vertical-align: top;\n",
              "    }\n",
              "\n",
              "    .dataframe thead th {\n",
              "        text-align: right;\n",
              "    }\n",
              "</style>\n",
              "<table border=\"1\" class=\"dataframe\">\n",
              "  <thead>\n",
              "    <tr style=\"text-align: right;\">\n",
              "      <th></th>\n",
              "      <th>sentiment</th>\n",
              "      <th>message</th>\n",
              "      <th>tweetid</th>\n",
              "    </tr>\n",
              "  </thead>\n",
              "  <tbody>\n",
              "    <tr>\n",
              "      <th>0</th>\n",
              "      <td>1</td>\n",
              "      <td>PolySciMajor EPA chief doesn't think carbon di...</td>\n",
              "      <td>625221</td>\n",
              "    </tr>\n",
              "    <tr>\n",
              "      <th>1</th>\n",
              "      <td>1</td>\n",
              "      <td>It's not like we lack evidence of anthropogeni...</td>\n",
              "      <td>126103</td>\n",
              "    </tr>\n",
              "    <tr>\n",
              "      <th>2</th>\n",
              "      <td>2</td>\n",
              "      <td>RT @RawStory: Researchers say we have three ye...</td>\n",
              "      <td>698562</td>\n",
              "    </tr>\n",
              "    <tr>\n",
              "      <th>3</th>\n",
              "      <td>1</td>\n",
              "      <td>#TodayinMaker# WIRED : 2016 was a pivotal year...</td>\n",
              "      <td>573736</td>\n",
              "    </tr>\n",
              "    <tr>\n",
              "      <th>4</th>\n",
              "      <td>1</td>\n",
              "      <td>RT @SoyNovioDeTodas: It's 2016, and a racist, ...</td>\n",
              "      <td>466954</td>\n",
              "    </tr>\n",
              "  </tbody>\n",
              "</table>\n",
              "</div>\n",
              "      <button class=\"colab-df-convert\" onclick=\"convertToInteractive('df-e66dcaaa-e6c6-4df7-89bc-81bcd9ad1053')\"\n",
              "              title=\"Convert this dataframe to an interactive table.\"\n",
              "              style=\"display:none;\">\n",
              "        \n",
              "  <svg xmlns=\"http://www.w3.org/2000/svg\" height=\"24px\"viewBox=\"0 0 24 24\"\n",
              "       width=\"24px\">\n",
              "    <path d=\"M0 0h24v24H0V0z\" fill=\"none\"/>\n",
              "    <path d=\"M18.56 5.44l.94 2.06.94-2.06 2.06-.94-2.06-.94-.94-2.06-.94 2.06-2.06.94zm-11 1L8.5 8.5l.94-2.06 2.06-.94-2.06-.94L8.5 2.5l-.94 2.06-2.06.94zm10 10l.94 2.06.94-2.06 2.06-.94-2.06-.94-.94-2.06-.94 2.06-2.06.94z\"/><path d=\"M17.41 7.96l-1.37-1.37c-.4-.4-.92-.59-1.43-.59-.52 0-1.04.2-1.43.59L10.3 9.45l-7.72 7.72c-.78.78-.78 2.05 0 2.83L4 21.41c.39.39.9.59 1.41.59.51 0 1.02-.2 1.41-.59l7.78-7.78 2.81-2.81c.8-.78.8-2.07 0-2.86zM5.41 20L4 18.59l7.72-7.72 1.47 1.35L5.41 20z\"/>\n",
              "  </svg>\n",
              "      </button>\n",
              "      \n",
              "  <style>\n",
              "    .colab-df-container {\n",
              "      display:flex;\n",
              "      flex-wrap:wrap;\n",
              "      gap: 12px;\n",
              "    }\n",
              "\n",
              "    .colab-df-convert {\n",
              "      background-color: #E8F0FE;\n",
              "      border: none;\n",
              "      border-radius: 50%;\n",
              "      cursor: pointer;\n",
              "      display: none;\n",
              "      fill: #1967D2;\n",
              "      height: 32px;\n",
              "      padding: 0 0 0 0;\n",
              "      width: 32px;\n",
              "    }\n",
              "\n",
              "    .colab-df-convert:hover {\n",
              "      background-color: #E2EBFA;\n",
              "      box-shadow: 0px 1px 2px rgba(60, 64, 67, 0.3), 0px 1px 3px 1px rgba(60, 64, 67, 0.15);\n",
              "      fill: #174EA6;\n",
              "    }\n",
              "\n",
              "    [theme=dark] .colab-df-convert {\n",
              "      background-color: #3B4455;\n",
              "      fill: #D2E3FC;\n",
              "    }\n",
              "\n",
              "    [theme=dark] .colab-df-convert:hover {\n",
              "      background-color: #434B5C;\n",
              "      box-shadow: 0px 1px 3px 1px rgba(0, 0, 0, 0.15);\n",
              "      filter: drop-shadow(0px 1px 2px rgba(0, 0, 0, 0.3));\n",
              "      fill: #FFFFFF;\n",
              "    }\n",
              "  </style>\n",
              "\n",
              "      <script>\n",
              "        const buttonEl =\n",
              "          document.querySelector('#df-e66dcaaa-e6c6-4df7-89bc-81bcd9ad1053 button.colab-df-convert');\n",
              "        buttonEl.style.display =\n",
              "          google.colab.kernel.accessAllowed ? 'block' : 'none';\n",
              "\n",
              "        async function convertToInteractive(key) {\n",
              "          const element = document.querySelector('#df-e66dcaaa-e6c6-4df7-89bc-81bcd9ad1053');\n",
              "          const dataTable =\n",
              "            await google.colab.kernel.invokeFunction('convertToInteractive',\n",
              "                                                     [key], {});\n",
              "          if (!dataTable) return;\n",
              "\n",
              "          const docLinkHtml = 'Like what you see? Visit the ' +\n",
              "            '<a target=\"_blank\" href=https://colab.research.google.com/notebooks/data_table.ipynb>data table notebook</a>'\n",
              "            + ' to learn more about interactive tables.';\n",
              "          element.innerHTML = '';\n",
              "          dataTable['output_type'] = 'display_data';\n",
              "          await google.colab.output.renderOutput(dataTable, element);\n",
              "          const docLink = document.createElement('div');\n",
              "          docLink.innerHTML = docLinkHtml;\n",
              "          element.appendChild(docLink);\n",
              "        }\n",
              "      </script>\n",
              "    </div>\n",
              "  </div>\n",
              "  "
            ]
          },
          "metadata": {},
          "execution_count": 4
        }
      ],
      "source": [
        "train  = pd.read_csv('train.csv')\n",
        "test = pd.read_csv('test.csv') # no labels\n",
        "\n",
        "train.head()"
      ]
    },
    {
      "cell_type": "code",
      "execution_count": 3,
      "metadata": {
        "colab": {
          "base_uri": "https://localhost:8080/",
          "height": 206
        },
        "id": "X2bf_dmMqU9a",
        "outputId": "da890b01-3325-48ed-bce2-986608221f62"
      },
      "outputs": [
        {
          "output_type": "execute_result",
          "data": {
            "text/plain": [
              "                                             message  tweetid\n",
              "0  Europe will now be looking to China to make su...   169760\n",
              "1  Combine this with the polling of staffers re c...    35326\n",
              "2  The scary, unimpeachable evidence that climate...   224985\n",
              "3  @Karoli @morgfair @OsborneInk @dailykos \\nPuti...   476263\n",
              "4  RT @FakeWillMoore: 'Female orgasms cause globa...   872928"
            ],
            "text/html": [
              "\n",
              "  <div id=\"df-cadcab7b-680c-4022-add5-df0d639a25b9\">\n",
              "    <div class=\"colab-df-container\">\n",
              "      <div>\n",
              "<style scoped>\n",
              "    .dataframe tbody tr th:only-of-type {\n",
              "        vertical-align: middle;\n",
              "    }\n",
              "\n",
              "    .dataframe tbody tr th {\n",
              "        vertical-align: top;\n",
              "    }\n",
              "\n",
              "    .dataframe thead th {\n",
              "        text-align: right;\n",
              "    }\n",
              "</style>\n",
              "<table border=\"1\" class=\"dataframe\">\n",
              "  <thead>\n",
              "    <tr style=\"text-align: right;\">\n",
              "      <th></th>\n",
              "      <th>message</th>\n",
              "      <th>tweetid</th>\n",
              "    </tr>\n",
              "  </thead>\n",
              "  <tbody>\n",
              "    <tr>\n",
              "      <th>0</th>\n",
              "      <td>Europe will now be looking to China to make su...</td>\n",
              "      <td>169760</td>\n",
              "    </tr>\n",
              "    <tr>\n",
              "      <th>1</th>\n",
              "      <td>Combine this with the polling of staffers re c...</td>\n",
              "      <td>35326</td>\n",
              "    </tr>\n",
              "    <tr>\n",
              "      <th>2</th>\n",
              "      <td>The scary, unimpeachable evidence that climate...</td>\n",
              "      <td>224985</td>\n",
              "    </tr>\n",
              "    <tr>\n",
              "      <th>3</th>\n",
              "      <td>@Karoli @morgfair @OsborneInk @dailykos \\nPuti...</td>\n",
              "      <td>476263</td>\n",
              "    </tr>\n",
              "    <tr>\n",
              "      <th>4</th>\n",
              "      <td>RT @FakeWillMoore: 'Female orgasms cause globa...</td>\n",
              "      <td>872928</td>\n",
              "    </tr>\n",
              "  </tbody>\n",
              "</table>\n",
              "</div>\n",
              "      <button class=\"colab-df-convert\" onclick=\"convertToInteractive('df-cadcab7b-680c-4022-add5-df0d639a25b9')\"\n",
              "              title=\"Convert this dataframe to an interactive table.\"\n",
              "              style=\"display:none;\">\n",
              "        \n",
              "  <svg xmlns=\"http://www.w3.org/2000/svg\" height=\"24px\"viewBox=\"0 0 24 24\"\n",
              "       width=\"24px\">\n",
              "    <path d=\"M0 0h24v24H0V0z\" fill=\"none\"/>\n",
              "    <path d=\"M18.56 5.44l.94 2.06.94-2.06 2.06-.94-2.06-.94-.94-2.06-.94 2.06-2.06.94zm-11 1L8.5 8.5l.94-2.06 2.06-.94-2.06-.94L8.5 2.5l-.94 2.06-2.06.94zm10 10l.94 2.06.94-2.06 2.06-.94-2.06-.94-.94-2.06-.94 2.06-2.06.94z\"/><path d=\"M17.41 7.96l-1.37-1.37c-.4-.4-.92-.59-1.43-.59-.52 0-1.04.2-1.43.59L10.3 9.45l-7.72 7.72c-.78.78-.78 2.05 0 2.83L4 21.41c.39.39.9.59 1.41.59.51 0 1.02-.2 1.41-.59l7.78-7.78 2.81-2.81c.8-.78.8-2.07 0-2.86zM5.41 20L4 18.59l7.72-7.72 1.47 1.35L5.41 20z\"/>\n",
              "  </svg>\n",
              "      </button>\n",
              "      \n",
              "  <style>\n",
              "    .colab-df-container {\n",
              "      display:flex;\n",
              "      flex-wrap:wrap;\n",
              "      gap: 12px;\n",
              "    }\n",
              "\n",
              "    .colab-df-convert {\n",
              "      background-color: #E8F0FE;\n",
              "      border: none;\n",
              "      border-radius: 50%;\n",
              "      cursor: pointer;\n",
              "      display: none;\n",
              "      fill: #1967D2;\n",
              "      height: 32px;\n",
              "      padding: 0 0 0 0;\n",
              "      width: 32px;\n",
              "    }\n",
              "\n",
              "    .colab-df-convert:hover {\n",
              "      background-color: #E2EBFA;\n",
              "      box-shadow: 0px 1px 2px rgba(60, 64, 67, 0.3), 0px 1px 3px 1px rgba(60, 64, 67, 0.15);\n",
              "      fill: #174EA6;\n",
              "    }\n",
              "\n",
              "    [theme=dark] .colab-df-convert {\n",
              "      background-color: #3B4455;\n",
              "      fill: #D2E3FC;\n",
              "    }\n",
              "\n",
              "    [theme=dark] .colab-df-convert:hover {\n",
              "      background-color: #434B5C;\n",
              "      box-shadow: 0px 1px 3px 1px rgba(0, 0, 0, 0.15);\n",
              "      filter: drop-shadow(0px 1px 2px rgba(0, 0, 0, 0.3));\n",
              "      fill: #FFFFFF;\n",
              "    }\n",
              "  </style>\n",
              "\n",
              "      <script>\n",
              "        const buttonEl =\n",
              "          document.querySelector('#df-cadcab7b-680c-4022-add5-df0d639a25b9 button.colab-df-convert');\n",
              "        buttonEl.style.display =\n",
              "          google.colab.kernel.accessAllowed ? 'block' : 'none';\n",
              "\n",
              "        async function convertToInteractive(key) {\n",
              "          const element = document.querySelector('#df-cadcab7b-680c-4022-add5-df0d639a25b9');\n",
              "          const dataTable =\n",
              "            await google.colab.kernel.invokeFunction('convertToInteractive',\n",
              "                                                     [key], {});\n",
              "          if (!dataTable) return;\n",
              "\n",
              "          const docLinkHtml = 'Like what you see? Visit the ' +\n",
              "            '<a target=\"_blank\" href=https://colab.research.google.com/notebooks/data_table.ipynb>data table notebook</a>'\n",
              "            + ' to learn more about interactive tables.';\n",
              "          element.innerHTML = '';\n",
              "          dataTable['output_type'] = 'display_data';\n",
              "          await google.colab.output.renderOutput(dataTable, element);\n",
              "          const docLink = document.createElement('div');\n",
              "          docLink.innerHTML = docLinkHtml;\n",
              "          element.appendChild(docLink);\n",
              "        }\n",
              "      </script>\n",
              "    </div>\n",
              "  </div>\n",
              "  "
            ]
          },
          "metadata": {},
          "execution_count": 3
        }
      ],
      "source": [
        "test.head()"
      ]
    },
    {
      "cell_type": "code",
      "source": [
        "train.sentiment.value_counts()"
      ],
      "metadata": {
        "colab": {
          "base_uri": "https://localhost:8080/"
        },
        "id": "1i_6Lm8dujNB",
        "outputId": "7f297f33-eb93-4d09-dd7f-609b6c56ad04"
      },
      "execution_count": 5,
      "outputs": [
        {
          "output_type": "execute_result",
          "data": {
            "text/plain": [
              " 1    8530\n",
              " 2    3640\n",
              " 0    2353\n",
              "-1    1296\n",
              "Name: sentiment, dtype: int64"
            ]
          },
          "metadata": {},
          "execution_count": 5
        }
      ]
    },
    {
      "cell_type": "code",
      "source": [
        "def tweet_prep(text):\n",
        "    text = text.replace('\\n', ' ')\n",
        "    text = re.sub(r\"\\bhttps://t.co/\\w+\", '', text)\n",
        "    text = re.sub('\\w*\\d\\w*', ' ', text) \n",
        "    text = re.sub('[%s]' % re.escape(string.punctuation), ' ',text.lower()) \n",
        "    \n",
        "    return text"
      ],
      "metadata": {
        "id": "TBbeKmndaSQn"
      },
      "execution_count": 15,
      "outputs": []
    },
    {
      "cell_type": "code",
      "source": [
        "def get_roots(text):\n",
        "    # YOUR CODE HERE \n",
        "    lemmatizer = WordNetLemmatizer()\n",
        "    root_text = [lemmatizer.lemmatize(word) for word in text.split()]\n",
        "    return ' '.join(root_text)"
      ],
      "metadata": {
        "id": "jhd1idv_iUiB"
      },
      "execution_count": 30,
      "outputs": []
    },
    {
      "cell_type": "code",
      "source": [
        "def get_tokens(text):\n",
        "    # YOUR CODE HERE \n",
        "    tokens = word_tokenize(text)\n",
        "    return tokens"
      ],
      "metadata": {
        "id": "fc6V_kdonx5K"
      },
      "execution_count": 31,
      "outputs": []
    },
    {
      "cell_type": "code",
      "source": [
        "y = train['sentiment']\n",
        "X = train['message']"
      ],
      "metadata": {
        "id": "bus45sQWuntZ"
      },
      "execution_count": 6,
      "outputs": []
    },
    {
      "cell_type": "code",
      "source": [
        "vectorizer = CountVectorizer(ngram_range=(1,3),\n",
        "                           max_df = 0.7, min_df = 3, \n",
        "                           preprocessor=tweet_prep, \n",
        "                           tokenizer=get_tokens, \n",
        "                           stop_words='english')\n",
        "X_vectorized = vectorizer.fit_transform(X)"
      ],
      "metadata": {
        "id": "qftFfvxXUzjr"
      },
      "execution_count": 127,
      "outputs": []
    },
    {
      "cell_type": "code",
      "source": [
        "X_train,X_val,y_train,y_val = train_test_split(X_vectorized,y,test_size=.2,shuffle=True, stratify=y, random_state=12)"
      ],
      "metadata": {
        "id": "B3d1HEuDVLnA"
      },
      "execution_count": 128,
      "outputs": []
    },
    {
      "cell_type": "code",
      "source": [
        "rfc = RandomForestClassifier()\n",
        "rfc.fit(X_train, y_train)\n",
        "rfc_pred = rfc.predict(X_val)"
      ],
      "metadata": {
        "id": "WPqI0XtZV6Hi"
      },
      "execution_count": 130,
      "outputs": []
    },
    {
      "cell_type": "code",
      "source": [
        "f1_score(y_val, rfc_pred, average=\"macro\")"
      ],
      "metadata": {
        "colab": {
          "base_uri": "https://localhost:8080/"
        },
        "id": "RuMMj7kgXuf8",
        "outputId": "7788915d-0f20-4516-fa63-4b0ae93d6c8a"
      },
      "execution_count": 131,
      "outputs": [
        {
          "output_type": "execute_result",
          "data": {
            "text/plain": [
              "0.5707682921132814"
            ]
          },
          "metadata": {},
          "execution_count": 131
        }
      ]
    },
    {
      "cell_type": "code",
      "source": [
        "lc = LogisticRegression(C=0.95, penalty='l2', solver='liblinear', verbose=2)\n",
        "lc.fit(X_train, y_train)\n",
        "lc_pred = lc.predict(X_val)"
      ],
      "metadata": {
        "colab": {
          "base_uri": "https://localhost:8080/"
        },
        "id": "vejZzvjYYNiJ",
        "outputId": "bfaf4741-a83d-43e5-83ec-c27c6b64149c"
      },
      "execution_count": 132,
      "outputs": [
        {
          "output_type": "stream",
          "name": "stdout",
          "text": [
            "[LibLinear]"
          ]
        }
      ]
    },
    {
      "cell_type": "code",
      "source": [
        "f1_score(y_val, lc_pred, average=\"macro\")"
      ],
      "metadata": {
        "colab": {
          "base_uri": "https://localhost:8080/"
        },
        "id": "kUNde1mzYbpH",
        "outputId": "b128a743-992b-4df3-b248-0768e651c0fa"
      },
      "execution_count": 133,
      "outputs": [
        {
          "output_type": "execute_result",
          "data": {
            "text/plain": [
              "0.6557904393098222"
            ]
          },
          "metadata": {},
          "execution_count": 133
        }
      ]
    },
    {
      "cell_type": "code",
      "source": [
        "nnc = KNeighborsClassifier(4)\n",
        "nnc.fit(X_train, y_train)\n",
        "nnc_pred = nnc.predict(X_val)"
      ],
      "metadata": {
        "id": "pZQr9fCRvnTb"
      },
      "execution_count": 134,
      "outputs": []
    },
    {
      "cell_type": "code",
      "source": [
        "f1_score(y_val, nnc_pred, average=\"macro\")"
      ],
      "metadata": {
        "colab": {
          "base_uri": "https://localhost:8080/"
        },
        "id": "psT8H2CDx7Qf",
        "outputId": "85d859e5-794e-4ae0-d258-7eb844efe6c6"
      },
      "execution_count": 135,
      "outputs": [
        {
          "output_type": "execute_result",
          "data": {
            "text/plain": [
              "0.4026868470787245"
            ]
          },
          "metadata": {},
          "execution_count": 135
        }
      ]
    },
    {
      "cell_type": "code",
      "source": [
        "LinearSVMC = SVC(kernel=\"linear\", C=0.095)\n",
        "LinearSVMC.fit(X_train, y_train)\n",
        "LinearSVMC_pred = LinearSVMC.predict(X_val)"
      ],
      "metadata": {
        "id": "DyVrtYqcyNJT"
      },
      "execution_count": 136,
      "outputs": []
    },
    {
      "cell_type": "code",
      "source": [
        "f1_score(y_val, LinearSVMC_pred, average=\"macro\")"
      ],
      "metadata": {
        "colab": {
          "base_uri": "https://localhost:8080/"
        },
        "id": "FYd5EgkyyNSG",
        "outputId": "36a77223-f398-4a24-b6d9-c91ea2d622da"
      },
      "execution_count": 137,
      "outputs": [
        {
          "output_type": "execute_result",
          "data": {
            "text/plain": [
              "0.6295055890170875"
            ]
          },
          "metadata": {},
          "execution_count": 137
        }
      ]
    },
    {
      "cell_type": "code",
      "source": [
        "dtc = DecisionTreeClassifier(max_depth=9)\n",
        "dtc.fit(X_train, y_train)\n",
        "dtc_pred = dtc.predict(X_val)"
      ],
      "metadata": {
        "id": "GEKTrd1F60b5"
      },
      "execution_count": 138,
      "outputs": []
    },
    {
      "cell_type": "code",
      "source": [
        "f1_score(y_val, dtc_pred, average=\"macro\")"
      ],
      "metadata": {
        "colab": {
          "base_uri": "https://localhost:8080/"
        },
        "id": "LlJgOV-y60u9",
        "outputId": "01f6609b-e638-4325-ae68-cb83b7b19995"
      },
      "execution_count": 139,
      "outputs": [
        {
          "output_type": "execute_result",
          "data": {
            "text/plain": [
              "0.33876344876069486"
            ]
          },
          "metadata": {},
          "execution_count": 139
        }
      ]
    },
    {
      "cell_type": "code",
      "source": [
        "testx = test['message']\n",
        "test_vect = vectorizer.transform(testx)"
      ],
      "metadata": {
        "id": "yCDsW1f3eH3A"
      },
      "execution_count": 140,
      "outputs": []
    },
    {
      "cell_type": "code",
      "source": [
        "y_pred = lc.predict(test_vect)"
      ],
      "metadata": {
        "id": "llN1bxaHeMJr"
      },
      "execution_count": 141,
      "outputs": []
    },
    {
      "cell_type": "code",
      "source": [
        "test['sentiment'] = y_pred"
      ],
      "metadata": {
        "id": "sI5BtVBagusQ"
      },
      "execution_count": 142,
      "outputs": []
    },
    {
      "cell_type": "code",
      "source": [
        "test.head()"
      ],
      "metadata": {
        "colab": {
          "base_uri": "https://localhost:8080/",
          "height": 206
        },
        "id": "X7Hpwb_Kg107",
        "outputId": "5811cc7d-6910-4ae6-973a-e0bcfc450ef3"
      },
      "execution_count": 143,
      "outputs": [
        {
          "output_type": "execute_result",
          "data": {
            "text/plain": [
              "                                             message  tweetid  sentiment\n",
              "0  Europe will now be looking to China to make su...   169760          1\n",
              "1  Combine this with the polling of staffers re c...    35326          1\n",
              "2  The scary, unimpeachable evidence that climate...   224985          1\n",
              "3  @Karoli @morgfair @OsborneInk @dailykos \\nPuti...   476263          1\n",
              "4  RT @FakeWillMoore: 'Female orgasms cause globa...   872928          0"
            ],
            "text/html": [
              "\n",
              "  <div id=\"df-0306f945-9d62-4a89-81d3-27acebf70722\">\n",
              "    <div class=\"colab-df-container\">\n",
              "      <div>\n",
              "<style scoped>\n",
              "    .dataframe tbody tr th:only-of-type {\n",
              "        vertical-align: middle;\n",
              "    }\n",
              "\n",
              "    .dataframe tbody tr th {\n",
              "        vertical-align: top;\n",
              "    }\n",
              "\n",
              "    .dataframe thead th {\n",
              "        text-align: right;\n",
              "    }\n",
              "</style>\n",
              "<table border=\"1\" class=\"dataframe\">\n",
              "  <thead>\n",
              "    <tr style=\"text-align: right;\">\n",
              "      <th></th>\n",
              "      <th>message</th>\n",
              "      <th>tweetid</th>\n",
              "      <th>sentiment</th>\n",
              "    </tr>\n",
              "  </thead>\n",
              "  <tbody>\n",
              "    <tr>\n",
              "      <th>0</th>\n",
              "      <td>Europe will now be looking to China to make su...</td>\n",
              "      <td>169760</td>\n",
              "      <td>1</td>\n",
              "    </tr>\n",
              "    <tr>\n",
              "      <th>1</th>\n",
              "      <td>Combine this with the polling of staffers re c...</td>\n",
              "      <td>35326</td>\n",
              "      <td>1</td>\n",
              "    </tr>\n",
              "    <tr>\n",
              "      <th>2</th>\n",
              "      <td>The scary, unimpeachable evidence that climate...</td>\n",
              "      <td>224985</td>\n",
              "      <td>1</td>\n",
              "    </tr>\n",
              "    <tr>\n",
              "      <th>3</th>\n",
              "      <td>@Karoli @morgfair @OsborneInk @dailykos \\nPuti...</td>\n",
              "      <td>476263</td>\n",
              "      <td>1</td>\n",
              "    </tr>\n",
              "    <tr>\n",
              "      <th>4</th>\n",
              "      <td>RT @FakeWillMoore: 'Female orgasms cause globa...</td>\n",
              "      <td>872928</td>\n",
              "      <td>0</td>\n",
              "    </tr>\n",
              "  </tbody>\n",
              "</table>\n",
              "</div>\n",
              "      <button class=\"colab-df-convert\" onclick=\"convertToInteractive('df-0306f945-9d62-4a89-81d3-27acebf70722')\"\n",
              "              title=\"Convert this dataframe to an interactive table.\"\n",
              "              style=\"display:none;\">\n",
              "        \n",
              "  <svg xmlns=\"http://www.w3.org/2000/svg\" height=\"24px\"viewBox=\"0 0 24 24\"\n",
              "       width=\"24px\">\n",
              "    <path d=\"M0 0h24v24H0V0z\" fill=\"none\"/>\n",
              "    <path d=\"M18.56 5.44l.94 2.06.94-2.06 2.06-.94-2.06-.94-.94-2.06-.94 2.06-2.06.94zm-11 1L8.5 8.5l.94-2.06 2.06-.94-2.06-.94L8.5 2.5l-.94 2.06-2.06.94zm10 10l.94 2.06.94-2.06 2.06-.94-2.06-.94-.94-2.06-.94 2.06-2.06.94z\"/><path d=\"M17.41 7.96l-1.37-1.37c-.4-.4-.92-.59-1.43-.59-.52 0-1.04.2-1.43.59L10.3 9.45l-7.72 7.72c-.78.78-.78 2.05 0 2.83L4 21.41c.39.39.9.59 1.41.59.51 0 1.02-.2 1.41-.59l7.78-7.78 2.81-2.81c.8-.78.8-2.07 0-2.86zM5.41 20L4 18.59l7.72-7.72 1.47 1.35L5.41 20z\"/>\n",
              "  </svg>\n",
              "      </button>\n",
              "      \n",
              "  <style>\n",
              "    .colab-df-container {\n",
              "      display:flex;\n",
              "      flex-wrap:wrap;\n",
              "      gap: 12px;\n",
              "    }\n",
              "\n",
              "    .colab-df-convert {\n",
              "      background-color: #E8F0FE;\n",
              "      border: none;\n",
              "      border-radius: 50%;\n",
              "      cursor: pointer;\n",
              "      display: none;\n",
              "      fill: #1967D2;\n",
              "      height: 32px;\n",
              "      padding: 0 0 0 0;\n",
              "      width: 32px;\n",
              "    }\n",
              "\n",
              "    .colab-df-convert:hover {\n",
              "      background-color: #E2EBFA;\n",
              "      box-shadow: 0px 1px 2px rgba(60, 64, 67, 0.3), 0px 1px 3px 1px rgba(60, 64, 67, 0.15);\n",
              "      fill: #174EA6;\n",
              "    }\n",
              "\n",
              "    [theme=dark] .colab-df-convert {\n",
              "      background-color: #3B4455;\n",
              "      fill: #D2E3FC;\n",
              "    }\n",
              "\n",
              "    [theme=dark] .colab-df-convert:hover {\n",
              "      background-color: #434B5C;\n",
              "      box-shadow: 0px 1px 3px 1px rgba(0, 0, 0, 0.15);\n",
              "      filter: drop-shadow(0px 1px 2px rgba(0, 0, 0, 0.3));\n",
              "      fill: #FFFFFF;\n",
              "    }\n",
              "  </style>\n",
              "\n",
              "      <script>\n",
              "        const buttonEl =\n",
              "          document.querySelector('#df-0306f945-9d62-4a89-81d3-27acebf70722 button.colab-df-convert');\n",
              "        buttonEl.style.display =\n",
              "          google.colab.kernel.accessAllowed ? 'block' : 'none';\n",
              "\n",
              "        async function convertToInteractive(key) {\n",
              "          const element = document.querySelector('#df-0306f945-9d62-4a89-81d3-27acebf70722');\n",
              "          const dataTable =\n",
              "            await google.colab.kernel.invokeFunction('convertToInteractive',\n",
              "                                                     [key], {});\n",
              "          if (!dataTable) return;\n",
              "\n",
              "          const docLinkHtml = 'Like what you see? Visit the ' +\n",
              "            '<a target=\"_blank\" href=https://colab.research.google.com/notebooks/data_table.ipynb>data table notebook</a>'\n",
              "            + ' to learn more about interactive tables.';\n",
              "          element.innerHTML = '';\n",
              "          dataTable['output_type'] = 'display_data';\n",
              "          await google.colab.output.renderOutput(dataTable, element);\n",
              "          const docLink = document.createElement('div');\n",
              "          docLink.innerHTML = docLinkHtml;\n",
              "          element.appendChild(docLink);\n",
              "        }\n",
              "      </script>\n",
              "    </div>\n",
              "  </div>\n",
              "  "
            ]
          },
          "metadata": {},
          "execution_count": 143
        }
      ]
    },
    {
      "cell_type": "code",
      "source": [
        "test[['tweetid','sentiment']].to_csv('logisticreg_submission.csv', index=False)"
      ],
      "metadata": {
        "id": "cmFkjlrVg_HP"
      },
      "execution_count": 144,
      "outputs": []
    },
    {
      "cell_type": "markdown",
      "metadata": {
        "id": "WvlcCLfzqU9a"
      },
      "source": [
        "## Overview\n",
        "\n",
        "Refer to this diagram to guide you while you build your model. Some of the steps will be fleshed out in this template."
      ]
    },
    {
      "cell_type": "markdown",
      "metadata": {
        "id": "D7CJqQntqU9b"
      },
      "source": [
        "![Overview](process_overview_final.jpg)"
      ]
    },
    {
      "cell_type": "markdown",
      "metadata": {
        "id": "s4Mhcvv6qU9b"
      },
      "source": [
        "## Basic preprocessing\n",
        "\n",
        "Here is a template you may use for your initial base model. \n",
        "\n",
        "### Removing URL's\n",
        "Write a function that removes URL's from a single tweet. \n",
        "\n",
        "**Function input:**\n",
        "- A single string object (tweet) \n",
        "\n",
        "**Function output:**\n",
        "- The tweet with URL's removed as a single object"
      ]
    },
    {
      "cell_type": "code",
      "execution_count": null,
      "metadata": {
        "id": "_kZVObCqqU9c"
      },
      "outputs": [],
      "source": [
        "# define function that removes URL from single tweet\n",
        "def remove_urls(text):\n",
        "    # YOUR CODE HERE \n",
        "    return "
      ]
    },
    {
      "cell_type": "markdown",
      "metadata": {
        "id": "quUcz11tqU9c"
      },
      "source": [
        "**Original object:**"
      ]
    },
    {
      "cell_type": "code",
      "execution_count": null,
      "metadata": {
        "id": "Ow3n_tc2qU9d",
        "outputId": "a7c9c45b-36aa-4f67-eefc-65ddf3e75568"
      },
      "outputs": [
        {
          "data": {
            "text/plain": [
              "'RT @RawStory: Researchers say we have three years to act on climate change before it’s too late https://t.co/WdT0KdUr2f https://t.co/Z0ANPT…'"
            ]
          },
          "execution_count": 7,
          "metadata": {},
          "output_type": "execute_result"
        }
      ],
      "source": [
        "tweet = train['message'][2]\n",
        "tweet"
      ]
    },
    {
      "cell_type": "code",
      "execution_count": null,
      "metadata": {
        "id": "WlFTLFT-qU9d"
      },
      "outputs": [],
      "source": [
        "remove_urls(tweet)"
      ]
    },
    {
      "cell_type": "markdown",
      "metadata": {
        "id": "8aULYsZZqU9e"
      },
      "source": [
        "**Expected output:**\n",
        "```python\n",
        "remove_urls(tweet)\n",
        "\n",
        ">>'RT @RawStory: Researchers say we have three years to act on climate change before it’s too late  '\n",
        "```"
      ]
    },
    {
      "cell_type": "markdown",
      "metadata": {
        "id": "kdQqoA3FqU9e"
      },
      "source": [
        "### Convert to lowercase\n",
        "\n",
        "Write a function that converts a single tweet to lowercase.\n",
        "\n",
        "**Function input:**\n",
        "- A single string object (tweet) \n",
        "\n",
        "**Function output:**\n",
        "- The tweet in lowercase as a single object"
      ]
    },
    {
      "cell_type": "code",
      "execution_count": null,
      "metadata": {
        "id": "Iz4_UrezqU9e"
      },
      "outputs": [],
      "source": [
        "def to_lower(text):\n",
        "    # YOUR CODE HERE \n",
        "    return"
      ]
    },
    {
      "cell_type": "markdown",
      "metadata": {
        "id": "ljOvL3hOqU9f"
      },
      "source": [
        "**Original object:**"
      ]
    },
    {
      "cell_type": "code",
      "execution_count": null,
      "metadata": {
        "id": "LaotJCJjqU9f",
        "outputId": "46d56e07-03c6-47c5-d364-66b30f7c39ce"
      },
      "outputs": [
        {
          "data": {
            "text/plain": [
              "'RT @RawStory: Researchers say we have three years to act on climate change before it’s too late https://t.co/WdT0KdUr2f https://t.co/Z0ANPT…'"
            ]
          },
          "execution_count": 9,
          "metadata": {},
          "output_type": "execute_result"
        }
      ],
      "source": [
        "tweet"
      ]
    },
    {
      "cell_type": "code",
      "execution_count": null,
      "metadata": {
        "id": "uAdnKwEmqU9g"
      },
      "outputs": [],
      "source": [
        "to_lower(tweet)"
      ]
    },
    {
      "cell_type": "markdown",
      "metadata": {
        "id": "0-CaO2k0qU9g"
      },
      "source": [
        "**Expected output:**\n",
        "\n",
        "```python \n",
        "to_lower(tweet)\n",
        ">> 'rt @rawstory: researchers say we have three years to act on climate change before it’s too late https://t.co/wdt0kdur2f https://t.co/z0anpt…'\n",
        "```\n",
        "\n",
        "### Stemming or lemmatising\n",
        "\n",
        "Write a function that derives the root words for each of the words in a tweet. You may use stemming _or_ lemmatising here.\n",
        "\n",
        "**Function input:**\n",
        "- A single string object (tweet) \n",
        "\n",
        "**Function output:**\n",
        "- The tweet in root words as a _single_ object"
      ]
    },
    {
      "cell_type": "code",
      "execution_count": null,
      "metadata": {
        "id": "i_V-lYnoqU9h"
      },
      "outputs": [],
      "source": [
        "def get_roots(text):\n",
        "    # YOUR CODE HERE \n",
        "    return"
      ]
    },
    {
      "cell_type": "markdown",
      "metadata": {
        "id": "W1nIzt4sqU9h"
      },
      "source": [
        "**Original object:**"
      ]
    },
    {
      "cell_type": "code",
      "execution_count": null,
      "metadata": {
        "id": "RXvSxaPvqU9h",
        "outputId": "833e6702-cd2a-45f1-8baf-36caa91dc8b5"
      },
      "outputs": [
        {
          "data": {
            "text/plain": [
              "'RT @RawStory: Researchers say we have three years to act on climate change before it’s too late https://t.co/WdT0KdUr2f https://t.co/Z0ANPT…'"
            ]
          },
          "execution_count": 12,
          "metadata": {},
          "output_type": "execute_result"
        }
      ],
      "source": [
        "tweet"
      ]
    },
    {
      "cell_type": "markdown",
      "metadata": {
        "id": "po0g3GneqU9h"
      },
      "source": [
        "**Expected output:**\n",
        "```python\n",
        "get_roots(tweet)\n",
        "```\n",
        "Using `SnowballStemmer()`\n",
        "```python\n",
        ">> 'rt @rawstory: research say we have three year to act on climat chang befor it too late https://t.co/wdt0kdur2f https://t.co/z0anpt…'\n",
        "```\n",
        "\n",
        "Using `WordNetLemmatizer()`\n",
        "```python\n",
        ">> 'RT @RawStory: Researchers say we have three years to act on climate change before it’s too late https://t.co/WdT0KdUr2f https://t.co/Z0ANPT…'\n",
        "```"
      ]
    },
    {
      "cell_type": "markdown",
      "metadata": {
        "id": "kPJXDxMaqU9i"
      },
      "source": [
        "### Other preprocessing techniques \n",
        "\n",
        "Come back here once you have submitted your base model to add any other preprocessing functions yuo wish to add"
      ]
    },
    {
      "cell_type": "code",
      "execution_count": null,
      "metadata": {
        "id": "Dn-CDP6aqU9i"
      },
      "outputs": [],
      "source": [
        "# YOUR CODE HERE\n",
        "\n",
        "\n",
        "\n",
        "\n"
      ]
    },
    {
      "cell_type": "markdown",
      "metadata": {
        "id": "TAHEvv-FqU9i"
      },
      "source": [
        "### Tokenising \n",
        "\n",
        "Write a function that tokenises a single tweet into a list of tokens.\n",
        "\n",
        "**Function input:**\n",
        "- A single string object (tweet) \n",
        "\n",
        "**Function output:**\n",
        "- A list of tokens (objects)."
      ]
    },
    {
      "cell_type": "code",
      "execution_count": null,
      "metadata": {
        "id": "O2uR1M4VqU9i"
      },
      "outputs": [],
      "source": [
        "def get_tokens(text):\n",
        "    # YOUR CODE HERE \n",
        "    return "
      ]
    },
    {
      "cell_type": "markdown",
      "metadata": {
        "id": "RDYFOq7iqU9i"
      },
      "source": [
        "**Original object:**"
      ]
    },
    {
      "cell_type": "code",
      "execution_count": null,
      "metadata": {
        "id": "ThUHz0pjqU9j",
        "outputId": "6b91d655-f398-4121-d214-1e88d0833570"
      },
      "outputs": [
        {
          "data": {
            "text/plain": [
              "'RT @RawStory: Researchers say we have three years to act on climate change before it’s too late https://t.co/WdT0KdUr2f https://t.co/Z0ANPT…'"
            ]
          },
          "execution_count": 19,
          "metadata": {},
          "output_type": "execute_result"
        }
      ],
      "source": [
        "tweet"
      ]
    },
    {
      "cell_type": "code",
      "execution_count": null,
      "metadata": {
        "id": "mwZiNxkQqU9j"
      },
      "outputs": [],
      "source": [
        "get_tokens(tweet)"
      ]
    },
    {
      "cell_type": "markdown",
      "metadata": {
        "id": "pgZMeMAuqU9j"
      },
      "source": [
        "**Expected output:**\n",
        "```python\n",
        "get_tokens(tweet)\n",
        "\n",
        ">> ['RT',\n",
        " '@',\n",
        " 'RawStory',\n",
        " ':',\n",
        " 'Researchers',\n",
        " 'say',\n",
        " 'we',\n",
        " 'have',\n",
        " 'three',\n",
        " 'years',\n",
        " 'to',\n",
        " 'act',\n",
        " 'on',\n",
        " 'climate',\n",
        " 'change',\n",
        " 'before',\n",
        " 'it’s',\n",
        " 'too',\n",
        " 'late',\n",
        " 'https',\n",
        " ':',\n",
        " '//t.co/WdT0KdUr2f',\n",
        " 'https',\n",
        " ':',\n",
        " '//t.co/Z0ANPT…']\n",
        "```"
      ]
    },
    {
      "cell_type": "markdown",
      "metadata": {
        "id": "GOSaPa_oqU9j"
      },
      "source": [
        "Besides the preprocessing methods we've already discussed, can you think of how our data can be improved at this stage?"
      ]
    },
    {
      "cell_type": "markdown",
      "metadata": {
        "id": "JQ2ZVkJaqU9j"
      },
      "source": [
        "### Vectorising \n",
        "\n",
        "Use the code from the webinar to define your vecotiser. For more details on this function have a look at the `sklearn`\n",
        "<a href=\"https://scikit-learn.org/stable/modules/generated/sklearn.feature_extraction.text.TfidfVectorizer.html\">package documentation on the function</a>. Recall that this function, unlike the others before takes an _**entire column**_ as an argument.\n",
        "\n",
        "### Putting all the functions together \n",
        "\n",
        "Test your cleaning functions on a single tweet. Perform the cleaning procedure on this tweet from start to finish. Make sure the output looks as you would expect. Store the cleaned tweet in `tweet_final`. Don't worry about vectorising for now.\n",
        "\n",
        "**_Include any other cleaning procedures you add after your base model_**\n",
        "\n",
        "**Original object:**"
      ]
    },
    {
      "cell_type": "code",
      "execution_count": null,
      "metadata": {
        "id": "ZzDk7m8eqU9j",
        "outputId": "f5d0c594-91e2-4ba2-ea6f-dc72c779c775"
      },
      "outputs": [
        {
          "data": {
            "text/plain": [
              "'RT @RawStory: Researchers say we have three years to act on climate change before it’s too late https://t.co/WdT0KdUr2f https://t.co/Z0ANPT…'"
            ]
          },
          "execution_count": 14,
          "metadata": {},
          "output_type": "execute_result"
        }
      ],
      "source": [
        "tweet"
      ]
    },
    {
      "cell_type": "code",
      "execution_count": null,
      "metadata": {
        "id": "CTFdRXjEqU9k"
      },
      "outputs": [],
      "source": [
        "# clean tweet from start to finish\n",
        "tweet1 = remove_urls(tweet)\n",
        "tweet2 = #... YOUR CODE HERE\n",
        "#.\n",
        "#.\n",
        "#.\n",
        "\n",
        "# cleaned tweet\n",
        "tweet_final"
      ]
    },
    {
      "cell_type": "markdown",
      "metadata": {
        "id": "Hutaj4WUqU9k"
      },
      "source": [
        "**Expected output:**\n",
        "```python\n",
        "tweet_final\n",
        ">>['rt',\n",
        " '@',\n",
        " 'rawstory',\n",
        " ':',\n",
        " 'research',\n",
        " 'say',\n",
        " 'we',\n",
        " 'have',\n",
        " 'three',\n",
        " 'year',\n",
        " 'to',\n",
        " 'act',\n",
        " 'on',\n",
        " 'climat',\n",
        " 'chang',\n",
        " 'befor',\n",
        " 'it',\n",
        " 'too',\n",
        " 'late']\n",
        "```"
      ]
    },
    {
      "cell_type": "markdown",
      "metadata": {
        "id": "0F-i0eNcqU9k"
      },
      "source": [
        "### Preprocessing and cleaning entire column of tweets\n",
        "\n",
        "Now that we know how to clean a single tweet, we can use `apply()` to clean the entire column in the dataframe. This is what the column looks like to begin with."
      ]
    },
    {
      "cell_type": "code",
      "execution_count": null,
      "metadata": {
        "id": "e42P-pc3qU9k",
        "outputId": "da8dda7f-13c5-4bb2-c0f7-bce8dc2bee30"
      },
      "outputs": [
        {
          "data": {
            "text/plain": [
              "0    PolySciMajor EPA chief doesn't think carbon di...\n",
              "1    It's not like we lack evidence of anthropogeni...\n",
              "2    RT @RawStory: Researchers say we have three ye...\n",
              "3    #TodayinMaker# WIRED : 2016 was a pivotal year...\n",
              "4    RT @SoyNovioDeTodas: It's 2016, and a racist, ...\n",
              "Name: message, dtype: object"
            ]
          },
          "execution_count": 18,
          "metadata": {},
          "output_type": "execute_result"
        }
      ],
      "source": [
        "train['message'].head()"
      ]
    },
    {
      "cell_type": "markdown",
      "metadata": {
        "id": "lDDJ7A-SqU9l"
      },
      "source": [
        "Write code that applies your cleaning functions to the entire `message` column of the dataframe using `.apply()`. Do not vectorise just yet. Store this in a new column, `train['message_clean']`. "
      ]
    },
    {
      "cell_type": "code",
      "execution_count": null,
      "metadata": {
        "id": "Np-h7k6SqU9l"
      },
      "outputs": [],
      "source": [
        "# applying cleaning functions to entire column of dataframe (NO VECTORISING)\n",
        "\n",
        "# YOUR CODE HERE - use apply with all your cleaning functions \n",
        "\n",
        "train['message_clean'] = # YOUR CLEANED DATA COLUMN (WITHOUT VECTORISING)\n",
        "\n",
        "train['message_clean']"
      ]
    },
    {
      "cell_type": "markdown",
      "metadata": {
        "id": "ctF7uOZBqU9l"
      },
      "source": [
        "**Expected output:**\n",
        "\n",
        "```python\n",
        "train['message_clean'].head()\n",
        "\n",
        ">>  0    [polyscimajor, epa, chief, does, n't, think, c...\n",
        "    1    [it, not, like, we, lack, evid, of, anthropoge...\n",
        "    2    [rt, @, rawstory, :, research, say, we, have, ...\n",
        "    3    [#, todayinmaker, #, wire, :, 2016, was, a, pi...\n",
        "    4    [rt, @, soynoviodetodas, :, it, 2016, ,, and, ...\n",
        "Name: message_clean, dtype: object\n",
        "```"
      ]
    },
    {
      "cell_type": "markdown",
      "metadata": {
        "id": "FIxtdCBBqU9l"
      },
      "source": [
        "### Vectorising \n",
        "\n",
        "Vectorise your cleaned data using the vectoriser you defined earlier. Don't forget to fit the vectoriser to the data you just cleaned. Store your vectorised data in `train_vec`."
      ]
    },
    {
      "cell_type": "code",
      "execution_count": null,
      "metadata": {
        "id": "qiAq6l5VqU9l"
      },
      "outputs": [],
      "source": [
        "# vectorise your cleaned data\n",
        "\n",
        "# YOUR CODE HERE "
      ]
    },
    {
      "cell_type": "markdown",
      "metadata": {
        "id": "Po-9sc3rqU9m"
      },
      "source": [
        "## Fitting a simple model on training data and evaluate its performance\n",
        "\n",
        "Fit a model on your cleaned data. Use `train_vec` as your features. Note that you need to convert `train_vec` to an array. \n",
        "\n",
        "You are familiar with this process, so there is less guidance here. You may also refer to train notebooks and the webinar pdf as guidance.\n",
        "\n",
        "Your basic model should be a logistic regression, however if you try different models you will also perform the following procedure.\n",
        "\n",
        "1. Split the training data into features and labels.\n",
        "2. Split the training data further into training and validation data.\n",
        "3. Fit the model on the training subset. \n",
        "4. Predict on the validation subset.\n",
        "5. Calculate the performance metrics on the validation predictions.\n",
        "6. Select a model based on validation performance (when you have more than one model).\n",
        "8. Clean the test data.\n",
        "9. Predict on the cleaned test data.\n",
        "7. Write a csv that matches `sample_submission.csv`.\n",
        "8. Submit to Kaggle."
      ]
    },
    {
      "cell_type": "code",
      "execution_count": null,
      "metadata": {
        "id": "Yiz69WEDqU9m"
      },
      "outputs": [],
      "source": [
        "# YOUR CODE HERE \n",
        "\n",
        "\n",
        "\n"
      ]
    },
    {
      "cell_type": "markdown",
      "metadata": {
        "id": "Fqf1rcIqqU9m"
      },
      "source": [
        "## Suggestions on how to improve the model - Extras \n",
        "\n",
        "Here are some ideas on how you can improve your model. Try some of them out once you have submitted your base model to Kaggle. Only use the methods you find improve your model performance.\n",
        "\n",
        " - Additional preprocessing \n",
        "     - Use some of the methods in the notebooks to balance the data\n",
        "     - Replace links with the text `Link` to show the machine that there is a link present without the extraneous detail of the link text\n",
        "     - Remove punctuation\n",
        "     - Correct spelling\n",
        "     - Bag of words vs. N-grams - which is better?\n",
        "     - Try `TweetTokenizer()` - how does this differ from the tokenisers you are familiar with?\n",
        " - Consider which other models could do a better job (refer to course resources)\n",
        " - Consider some further feature engineering:\n",
        "     - What other attributes of the tweets may be useful?\n",
        "     - Should we perform feature selection given their size and sparseness of the vectorised tweets?\n",
        " - If you've mastered the above, try implementing hyperparameter tuning methods.\n",
        " - Compare all the models you try and remember to submit **the best one** based on test performance (f1-score using macro averaging). \n",
        " \n",
        "You may use the space below to try out these \"Extras\"."
      ]
    },
    {
      "cell_type": "code",
      "execution_count": null,
      "metadata": {
        "id": "Ge71fyC8qU9m"
      },
      "outputs": [],
      "source": [
        "# Extras\n",
        "# YOUR CODE HERE \n",
        "\n",
        "\n"
      ]
    },
    {
      "cell_type": "markdown",
      "metadata": {
        "id": "Qdlnb3ZHqU9m"
      },
      "source": [
        "## How/why is the model bad?\n",
        "\n",
        "Do you have any hypotheses as to how you can improve the model further? Use this space to investigate with mindful EDA if necessary."
      ]
    },
    {
      "cell_type": "code",
      "execution_count": null,
      "metadata": {
        "id": "3ApOE3dOqU9n"
      },
      "outputs": [],
      "source": [
        "# EDA\n",
        "# YOUR CODE HERE \n",
        "\n",
        "\n",
        "\n"
      ]
    },
    {
      "cell_type": "markdown",
      "metadata": {
        "id": "cf8BHMkuqU9n"
      },
      "source": [
        "Be sure to check whether each additional technique you apply actually improves your model performance."
      ]
    },
    {
      "cell_type": "markdown",
      "metadata": {
        "id": "bEhx9IimqU9n"
      },
      "source": [
        "## Submit your best model predictions \n",
        "\n",
        "Don't forget to submit your the predictions on the best model to Kaggle."
      ]
    },
    {
      "cell_type": "code",
      "execution_count": null,
      "metadata": {
        "id": "yTjXo6CcqU9n"
      },
      "outputs": [],
      "source": [
        "# write csv for best predictions\n",
        "\n",
        "\n"
      ]
    }
  ],
  "metadata": {
    "hide_input": false,
    "kernelspec": {
      "display_name": "Python 3 (ipykernel)",
      "language": "python",
      "name": "python3"
    },
    "language_info": {
      "codemirror_mode": {
        "name": "ipython",
        "version": 3
      },
      "file_extension": ".py",
      "mimetype": "text/x-python",
      "name": "python",
      "nbconvert_exporter": "python",
      "pygments_lexer": "ipython3",
      "version": "3.9.7"
    },
    "colab": {
      "name": "AC_Predict_Starter_Notebook.ipynb",
      "provenance": [],
      "include_colab_link": true
    }
  },
  "nbformat": 4,
  "nbformat_minor": 0
}